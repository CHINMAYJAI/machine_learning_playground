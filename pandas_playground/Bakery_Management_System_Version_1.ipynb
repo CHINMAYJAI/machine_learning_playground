{
 "cells": [
  {
   "cell_type": "markdown",
   "id": "ebc5138e",
   "metadata": {},
   "source": [
    "# Bakery Management System (VERSION 1)"
   ]
  },
  {
   "cell_type": "code",
   "execution_count": 1,
   "id": "3bc07f67",
   "metadata": {},
   "outputs": [],
   "source": [
    "# this system is used to enter the order details [order, client_name, order_date, quantity_of_food] and will fetch the details of complete order by entering the order id of it and can make changes if required!\n",
    "\n",
    "# NOTE: unique order id will be generated!"
   ]
  },
  {
   "cell_type": "code",
   "execution_count": 2,
   "id": "0a6c4ded",
   "metadata": {},
   "outputs": [],
   "source": [
    "# importing the modules\n",
    "import pandas as pd\n",
    "import os"
   ]
  },
  {
   "cell_type": "code",
   "execution_count": 3,
   "id": "16dcd02d",
   "metadata": {},
   "outputs": [],
   "source": [
    "# this is used to set the number of fields of the dataframe dynamically\n",
    "number_of_fields = int(input(\"How many fields do you want to enter?\\n\"))\n",
    "# This is used to take the number of orders by the user\n",
    "number_of_orders = int(input(\"How many orders do you want to enter?\\n\"))"
   ]
  },
  {
   "cell_type": "code",
   "execution_count": 4,
   "id": "f1dfebbc",
   "metadata": {},
   "outputs": [],
   "source": [
    "# these are the fields that are required to be there in excel sheet\n",
    "list_of_fields = []\n",
    "for i in range(number_of_fields):\n",
    "    field = str(input(f\"Enter field {i+1} (NOTE: DO NOT ENTER ORDER ID AS FIELD)\"))\n",
    "    list_of_fields.append(field) # appending all the fields in this list"
   ]
  },
  {
   "cell_type": "code",
   "execution_count": 5,
   "id": "51524a71",
   "metadata": {},
   "outputs": [],
   "source": [
    "# creating dictonary for entering the details\n",
    "dictonary_of_orders = dict()\n",
    "# creating the empty list so that we can append the values of the fields in the list_of_details\n",
    "list_of_details = []"
   ]
  },
  {
   "cell_type": "code",
   "execution_count": 6,
   "id": "299b682e",
   "metadata": {},
   "outputs": [],
   "source": [
    "# creating 2-D arrays for storing the data\n",
    "for i in range((number_of_fields)):\n",
    "    list_of_details.append([])"
   ]
  },
  {
   "cell_type": "code",
   "execution_count": 7,
   "id": "bee08d2c",
   "metadata": {},
   "outputs": [],
   "source": [
    "# setting the values in the list and then transfering the data into the dictonary_of_orders\n",
    "for i in range(number_of_fields):\n",
    "    for j in range(number_of_orders):\n",
    "        field_detail = str(input(f\"{list_of_fields[i]}\"))\n",
    "        list_of_details[i].append(field_detail)\n",
    "    dictonary_of_orders.update({list_of_fields[i]:list_of_details[i]})"
   ]
  },
  {
   "cell_type": "code",
   "execution_count": 8,
   "id": "2102232c",
   "metadata": {},
   "outputs": [],
   "source": [
    "# creating the dataframe of the entered data\n",
    "df = pd.DataFrame(dictonary_of_orders)"
   ]
  },
  {
   "cell_type": "code",
   "execution_count": 9,
   "id": "2f22d735",
   "metadata": {},
   "outputs": [
    {
     "data": {
      "text/html": [
       "<div>\n",
       "<style scoped>\n",
       "    .dataframe tbody tr th:only-of-type {\n",
       "        vertical-align: middle;\n",
       "    }\n",
       "\n",
       "    .dataframe tbody tr th {\n",
       "        vertical-align: top;\n",
       "    }\n",
       "\n",
       "    .dataframe thead th {\n",
       "        text-align: right;\n",
       "    }\n",
       "</style>\n",
       "<table border=\"1\" class=\"dataframe\">\n",
       "  <thead>\n",
       "    <tr style=\"text-align: right;\">\n",
       "      <th></th>\n",
       "      <th>Order-Date</th>\n",
       "      <th>Customer-Name</th>\n",
       "      <th>Item-Name</th>\n",
       "      <th>Quantity</th>\n",
       "    </tr>\n",
       "  </thead>\n",
       "  <tbody>\n",
       "    <tr>\n",
       "      <th>0</th>\n",
       "      <td>12-2-24</td>\n",
       "      <td>Chinmay Jain</td>\n",
       "      <td>Cake</td>\n",
       "      <td>1</td>\n",
       "    </tr>\n",
       "    <tr>\n",
       "      <th>1</th>\n",
       "      <td>13-2-24</td>\n",
       "      <td>Raman</td>\n",
       "      <td>Cake</td>\n",
       "      <td>1</td>\n",
       "    </tr>\n",
       "    <tr>\n",
       "      <th>2</th>\n",
       "      <td>13-2-24</td>\n",
       "      <td>Raman</td>\n",
       "      <td>Biscuits</td>\n",
       "      <td>5</td>\n",
       "    </tr>\n",
       "  </tbody>\n",
       "</table>\n",
       "</div>"
      ],
      "text/plain": [
       "  Order-Date Customer-Name Item-Name Quantity\n",
       "0    12-2-24  Chinmay Jain      Cake        1\n",
       "1    13-2-24         Raman      Cake        1\n",
       "2    13-2-24         Raman  Biscuits        5"
      ]
     },
     "execution_count": 9,
     "metadata": {},
     "output_type": "execute_result"
    }
   ],
   "source": [
    "df"
   ]
  },
  {
   "cell_type": "code",
   "execution_count": 10,
   "id": "b377061a",
   "metadata": {},
   "outputs": [],
   "source": [
    "# loading into the excel sheet\n",
    "file_name = str(input(\"Enter name of the file in which you want to store the data\"))\n",
    "cwd = os.getcwd() # getting the current working directory\n",
    "df.to_excel(f'{cwd}/{file_name}.xlsx') # saving the file into the excel sheet"
   ]
  }
 ],
 "metadata": {
  "kernelspec": {
   "display_name": "Python 3 (ipykernel)",
   "language": "python",
   "name": "python3"
  },
  "language_info": {
   "codemirror_mode": {
    "name": "ipython",
    "version": 3
   },
   "file_extension": ".py",
   "mimetype": "text/x-python",
   "name": "python",
   "nbconvert_exporter": "python",
   "pygments_lexer": "ipython3",
   "version": "3.11.5"
  }
 },
 "nbformat": 4,
 "nbformat_minor": 5
}
