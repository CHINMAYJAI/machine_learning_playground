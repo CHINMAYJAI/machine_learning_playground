{
 "cells": [
  {
   "cell_type": "code",
   "execution_count": 1,
   "id": "3c398414",
   "metadata": {},
   "outputs": [],
   "source": [
    "import numpy as np\n",
    "import pandas as pd"
   ]
  },
  {
   "cell_type": "code",
   "execution_count": 2,
   "id": "ab08bd78",
   "metadata": {},
   "outputs": [],
   "source": [
    "number_of_columns = int(input(\"How many columns do you want me to enter?\\n\"))"
   ]
  },
  {
   "cell_type": "code",
   "execution_count": 3,
   "id": "85609d07",
   "metadata": {},
   "outputs": [],
   "source": [
    "# fetching the name of that columns\n",
    "column_name_list = []\n",
    "for i in range(number_of_columns):\n",
    "    column_name = str(input(f\"Enter column name {i+1}: \"))\n",
    "    column_name_list.append(column_name)"
   ]
  },
  {
   "cell_type": "code",
   "execution_count": 4,
   "id": "da006ec5",
   "metadata": {},
   "outputs": [
    {
     "data": {
      "text/plain": [
       "['date', 'category', 'amount']"
      ]
     },
     "execution_count": 4,
     "metadata": {},
     "output_type": "execute_result"
    }
   ],
   "source": [
    "column_name_list"
   ]
  },
  {
   "cell_type": "code",
   "execution_count": 5,
   "id": "f82a6537",
   "metadata": {},
   "outputs": [],
   "source": [
    "item_list = []\n",
    "for entity in range(number_of_columns):\n",
    "    item_list.append([])"
   ]
  },
  {
   "cell_type": "code",
   "execution_count": 6,
   "id": "6e04cbb5",
   "metadata": {},
   "outputs": [],
   "source": [
    "number_of_items = int(input(\"How many items do you want to enter?\\n\"))\n",
    "for i in range(number_of_columns):\n",
    "    for j in range(number_of_items):\n",
    "        item = str(input(f\"Enter entity instance for {column_name_list[i]}: \"))\n",
    "        item_list[i].append(item)       \n"
   ]
  },
  {
   "cell_type": "code",
   "execution_count": 7,
   "id": "a4f1cc19",
   "metadata": {},
   "outputs": [],
   "source": [
    "daily_expenses = dict()\n",
    "for i in range(number_of_columns):\n",
    "    daily_expenses.update({column_name_list[i]:item_list[i]})"
   ]
  },
  {
   "cell_type": "code",
   "execution_count": 8,
   "id": "4b35f0bf",
   "metadata": {},
   "outputs": [
    {
     "data": {
      "text/plain": [
       "{'date': ['01-09-24', '01-09-24', '02-09-24'],\n",
       " 'category': ['food', 'transport', 'movie'],\n",
       " 'amount': ['4000', '2000', '325']}"
      ]
     },
     "execution_count": 8,
     "metadata": {},
     "output_type": "execute_result"
    }
   ],
   "source": [
    "daily_expenses"
   ]
  },
  {
   "cell_type": "code",
   "execution_count": 9,
   "id": "15103461",
   "metadata": {},
   "outputs": [],
   "source": [
    "total_expenses = 0\n",
    "for i in range(number_of_items):\n",
    "    updated_amount_datatype = (float(daily_expenses.get('amount')[i]))\n",
    "    daily_expenses[\"amount\"][i] = updated_amount_datatype\n",
    "    total_expenses += daily_expenses.get(\"amount\")[i]\n"
   ]
  },
  {
   "cell_type": "code",
   "execution_count": 10,
   "id": "e0002b77",
   "metadata": {},
   "outputs": [],
   "source": [
    "df = pd.DataFrame(daily_expenses)"
   ]
  },
  {
   "cell_type": "code",
   "execution_count": 11,
   "id": "a91941d8",
   "metadata": {},
   "outputs": [
    {
     "data": {
      "text/html": [
       "<div>\n",
       "<style scoped>\n",
       "    .dataframe tbody tr th:only-of-type {\n",
       "        vertical-align: middle;\n",
       "    }\n",
       "\n",
       "    .dataframe tbody tr th {\n",
       "        vertical-align: top;\n",
       "    }\n",
       "\n",
       "    .dataframe thead th {\n",
       "        text-align: right;\n",
       "    }\n",
       "</style>\n",
       "<table border=\"1\" class=\"dataframe\">\n",
       "  <thead>\n",
       "    <tr style=\"text-align: right;\">\n",
       "      <th></th>\n",
       "      <th>date</th>\n",
       "      <th>category</th>\n",
       "      <th>amount</th>\n",
       "    </tr>\n",
       "  </thead>\n",
       "  <tbody>\n",
       "    <tr>\n",
       "      <th>0</th>\n",
       "      <td>01-09-24</td>\n",
       "      <td>food</td>\n",
       "      <td>4000.0</td>\n",
       "    </tr>\n",
       "    <tr>\n",
       "      <th>1</th>\n",
       "      <td>01-09-24</td>\n",
       "      <td>transport</td>\n",
       "      <td>2000.0</td>\n",
       "    </tr>\n",
       "    <tr>\n",
       "      <th>2</th>\n",
       "      <td>02-09-24</td>\n",
       "      <td>movie</td>\n",
       "      <td>325.0</td>\n",
       "    </tr>\n",
       "  </tbody>\n",
       "</table>\n",
       "</div>"
      ],
      "text/plain": [
       "       date   category  amount\n",
       "0  01-09-24       food  4000.0\n",
       "1  01-09-24  transport  2000.0\n",
       "2  02-09-24      movie   325.0"
      ]
     },
     "execution_count": 11,
     "metadata": {},
     "output_type": "execute_result"
    }
   ],
   "source": [
    "df"
   ]
  },
  {
   "cell_type": "code",
   "execution_count": 12,
   "id": "1f30e1b5",
   "metadata": {},
   "outputs": [
    {
     "data": {
      "text/html": [
       "<div>\n",
       "<style scoped>\n",
       "    .dataframe tbody tr th:only-of-type {\n",
       "        vertical-align: middle;\n",
       "    }\n",
       "\n",
       "    .dataframe tbody tr th {\n",
       "        vertical-align: top;\n",
       "    }\n",
       "\n",
       "    .dataframe thead th {\n",
       "        text-align: right;\n",
       "    }\n",
       "</style>\n",
       "<table border=\"1\" class=\"dataframe\">\n",
       "  <thead>\n",
       "    <tr style=\"text-align: right;\">\n",
       "      <th></th>\n",
       "      <th>amount</th>\n",
       "    </tr>\n",
       "  </thead>\n",
       "  <tbody>\n",
       "    <tr>\n",
       "      <th>count</th>\n",
       "      <td>3.000000</td>\n",
       "    </tr>\n",
       "    <tr>\n",
       "      <th>mean</th>\n",
       "      <td>2108.333333</td>\n",
       "    </tr>\n",
       "    <tr>\n",
       "      <th>std</th>\n",
       "      <td>1839.893566</td>\n",
       "    </tr>\n",
       "    <tr>\n",
       "      <th>min</th>\n",
       "      <td>325.000000</td>\n",
       "    </tr>\n",
       "    <tr>\n",
       "      <th>25%</th>\n",
       "      <td>1162.500000</td>\n",
       "    </tr>\n",
       "    <tr>\n",
       "      <th>50%</th>\n",
       "      <td>2000.000000</td>\n",
       "    </tr>\n",
       "    <tr>\n",
       "      <th>75%</th>\n",
       "      <td>3000.000000</td>\n",
       "    </tr>\n",
       "    <tr>\n",
       "      <th>max</th>\n",
       "      <td>4000.000000</td>\n",
       "    </tr>\n",
       "  </tbody>\n",
       "</table>\n",
       "</div>"
      ],
      "text/plain": [
       "            amount\n",
       "count     3.000000\n",
       "mean   2108.333333\n",
       "std    1839.893566\n",
       "min     325.000000\n",
       "25%    1162.500000\n",
       "50%    2000.000000\n",
       "75%    3000.000000\n",
       "max    4000.000000"
      ]
     },
     "execution_count": 12,
     "metadata": {},
     "output_type": "execute_result"
    }
   ],
   "source": [
    "df.describe()"
   ]
  },
  {
   "cell_type": "code",
   "execution_count": 13,
   "id": "e8848ed9",
   "metadata": {},
   "outputs": [],
   "source": [
    "saving_goal = float(input(\"Enter your saving goal: \"))"
   ]
  },
  {
   "cell_type": "code",
   "execution_count": 14,
   "id": "369d5f58",
   "metadata": {},
   "outputs": [],
   "source": [
    "total_money_for_month = float(input(\"Enter your total amount which you get for purchasing: \"))"
   ]
  },
  {
   "cell_type": "code",
   "execution_count": 15,
   "id": "78ce64ca",
   "metadata": {},
   "outputs": [],
   "source": [
    "saved_money = (total_money_for_month-total_expenses)"
   ]
  },
  {
   "cell_type": "code",
   "execution_count": 16,
   "id": "581053d2",
   "metadata": {},
   "outputs": [
    {
     "name": "stdout",
     "output_type": "stream",
     "text": [
      "Your saving goal: 500.0\n",
      "You saved: 175.0\n"
     ]
    }
   ],
   "source": [
    "if saved_money < 0 :\n",
    "    print(\"You are below saving line\")\n",
    "    print(f\"You spend {saved_money} money\")\n",
    "elif saved_money == 0:\n",
    "    print(\"No saving!\")\n",
    "else:\n",
    "    print(f\"Your saving goal: {saving_goal}\\nYou saved: {saved_money}\")"
   ]
  },
  {
   "cell_type": "code",
   "execution_count": 19,
   "id": "7b165287",
   "metadata": {},
   "outputs": [],
   "source": [
    "# excel sheet saving\n",
    "month_name = str(input(\"Enter month name: \"))\n",
    "df.to_csv(f\"Monthly_Expenses_of_{month_name}\",index=False)"
   ]
  },
  {
   "cell_type": "code",
   "execution_count": null,
   "id": "b5287aa0",
   "metadata": {},
   "outputs": [],
   "source": []
  }
 ],
 "metadata": {
  "kernelspec": {
   "display_name": "Python 3 (ipykernel)",
   "language": "python",
   "name": "python3"
  },
  "language_info": {
   "codemirror_mode": {
    "name": "ipython",
    "version": 3
   },
   "file_extension": ".py",
   "mimetype": "text/x-python",
   "name": "python",
   "nbconvert_exporter": "python",
   "pygments_lexer": "ipython3",
   "version": "3.11.5"
  }
 },
 "nbformat": 4,
 "nbformat_minor": 5
}
