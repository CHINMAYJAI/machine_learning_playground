{
 "cells": [
  {
   "cell_type": "markdown",
   "id": "77e0fe63",
   "metadata": {},
   "source": [
    "# PERSONAL_EXPENSE_TRACKER_SYSTEM VERSION 2"
   ]
  },
  {
   "cell_type": "code",
   "execution_count": 1,
   "id": "3c398414",
   "metadata": {},
   "outputs": [],
   "source": [
    "import pandas as pd\n",
    "import os"
   ]
  },
  {
   "cell_type": "code",
   "execution_count": 2,
   "id": "7858c77f",
   "metadata": {},
   "outputs": [
    {
     "name": "stdout",
     "output_type": "stream",
     "text": [
      "Must enter amount as a field!\n"
     ]
    }
   ],
   "source": [
    "print(\"Must enter amount as a field!\")"
   ]
  },
  {
   "cell_type": "code",
   "execution_count": 3,
   "id": "ab08bd78",
   "metadata": {},
   "outputs": [],
   "source": [
    "number_of_columns = int(input(\"How many columns do you want me to enter?\\n\"))"
   ]
  },
  {
   "cell_type": "code",
   "execution_count": 4,
   "id": "85609d07",
   "metadata": {},
   "outputs": [],
   "source": [
    "# fetching the name of that columns\n",
    "column_name_list = []\n",
    "for i in range(number_of_columns):\n",
    "    column_name = str(input(f\"Enter column name {i+1}: \"))\n",
    "    column_name_list.append(column_name)"
   ]
  },
  {
   "cell_type": "code",
   "execution_count": 5,
   "id": "f82a6537",
   "metadata": {},
   "outputs": [],
   "source": [
    "# creating the empty list so that all the details will append into the list\n",
    "item_list = []\n",
    "# setting a 2-D array so that data will enter smoothly\n",
    "for entity in range(number_of_columns):\n",
    "    item_list.append([])\n",
    "# creating the empty dictonary so that we can create a dataframe\n",
    "daily_expenses = dict()"
   ]
  },
  {
   "cell_type": "code",
   "execution_count": 6,
   "id": "6e04cbb5",
   "metadata": {},
   "outputs": [],
   "source": [
    "# inputing the number of fields into the dataframe\n",
    "number_of_items = int(input(\"How many items do you want to enter?\\n\"))\n",
    "# inputing the entity instance into the dataframe\n",
    "for i in range(number_of_columns):\n",
    "    for j in range(number_of_items):\n",
    "        if i == 0:\n",
    "            item = str(input(f\"Enter entity instance of {column_name_list[i]}: \"))\n",
    "        else : \n",
    "            item = str(input(f\"Enter entity instance of {column_name_list[i]} --> having {column_name_list[i-1]} : {item_list[i-1][j]} \"))\n",
    "        # appending the inputed entity instance into the dataframe\n",
    "        item_list[i].append(item)\n",
    "    # updating the daily_expenses time to time so that all the data will enter into it side-by-side as the loop runs\n",
    "    daily_expenses.update({column_name_list[i]:item_list[i]})"
   ]
  },
  {
   "cell_type": "code",
   "execution_count": 7,
   "id": "15103461",
   "metadata": {},
   "outputs": [],
   "source": [
    "# converting amount into the float data-type\n",
    "# side-by-side calculating total_expenses as this will use in furthur calculations\n",
    "total_expenses = 0\n",
    "for i in range(number_of_items):\n",
    "    updated_amount_datatype = (float(daily_expenses.get('amount')[i]))\n",
    "    daily_expenses[\"amount\"][i] = updated_amount_datatype\n",
    "    total_expenses += daily_expenses.get(\"amount\")[i]"
   ]
  },
  {
   "cell_type": "code",
   "execution_count": 8,
   "id": "e0002b77",
   "metadata": {},
   "outputs": [],
   "source": [
    "# converting the given dictonary into the dataframe\n",
    "df = pd.DataFrame(daily_expenses)"
   ]
  },
  {
   "cell_type": "code",
   "execution_count": 9,
   "id": "a91941d8",
   "metadata": {},
   "outputs": [
    {
     "data": {
      "text/html": [
       "<div>\n",
       "<style scoped>\n",
       "    .dataframe tbody tr th:only-of-type {\n",
       "        vertical-align: middle;\n",
       "    }\n",
       "\n",
       "    .dataframe tbody tr th {\n",
       "        vertical-align: top;\n",
       "    }\n",
       "\n",
       "    .dataframe thead th {\n",
       "        text-align: right;\n",
       "    }\n",
       "</style>\n",
       "<table border=\"1\" class=\"dataframe\">\n",
       "  <thead>\n",
       "    <tr style=\"text-align: right;\">\n",
       "      <th></th>\n",
       "      <th>date</th>\n",
       "      <th>category</th>\n",
       "      <th>amount</th>\n",
       "    </tr>\n",
       "  </thead>\n",
       "  <tbody>\n",
       "    <tr>\n",
       "      <th>0</th>\n",
       "      <td>12-2-24</td>\n",
       "      <td>food</td>\n",
       "      <td>2500.0</td>\n",
       "    </tr>\n",
       "    <tr>\n",
       "      <th>1</th>\n",
       "      <td>12-2-25</td>\n",
       "      <td>transport</td>\n",
       "      <td>2000.0</td>\n",
       "    </tr>\n",
       "  </tbody>\n",
       "</table>\n",
       "</div>"
      ],
      "text/plain": [
       "      date   category  amount\n",
       "0  12-2-24       food  2500.0\n",
       "1  12-2-25  transport  2000.0"
      ]
     },
     "execution_count": 9,
     "metadata": {},
     "output_type": "execute_result"
    }
   ],
   "source": [
    "# printing the dataframe\n",
    "df"
   ]
  },
  {
   "cell_type": "code",
   "execution_count": 10,
   "id": "1f30e1b5",
   "metadata": {},
   "outputs": [],
   "source": [
    "# performing all the statistical analysis of the amount field that is present in the dataframe\n",
    "calculation_part = df.describe()"
   ]
  },
  {
   "cell_type": "code",
   "execution_count": 11,
   "id": "3040edfa",
   "metadata": {},
   "outputs": [
    {
     "data": {
      "text/html": [
       "<div>\n",
       "<style scoped>\n",
       "    .dataframe tbody tr th:only-of-type {\n",
       "        vertical-align: middle;\n",
       "    }\n",
       "\n",
       "    .dataframe tbody tr th {\n",
       "        vertical-align: top;\n",
       "    }\n",
       "\n",
       "    .dataframe thead th {\n",
       "        text-align: right;\n",
       "    }\n",
       "</style>\n",
       "<table border=\"1\" class=\"dataframe\">\n",
       "  <thead>\n",
       "    <tr style=\"text-align: right;\">\n",
       "      <th></th>\n",
       "      <th>amount</th>\n",
       "    </tr>\n",
       "  </thead>\n",
       "  <tbody>\n",
       "    <tr>\n",
       "      <th>count</th>\n",
       "      <td>2.000000</td>\n",
       "    </tr>\n",
       "    <tr>\n",
       "      <th>mean</th>\n",
       "      <td>2250.000000</td>\n",
       "    </tr>\n",
       "    <tr>\n",
       "      <th>std</th>\n",
       "      <td>353.553391</td>\n",
       "    </tr>\n",
       "    <tr>\n",
       "      <th>min</th>\n",
       "      <td>2000.000000</td>\n",
       "    </tr>\n",
       "    <tr>\n",
       "      <th>25%</th>\n",
       "      <td>2125.000000</td>\n",
       "    </tr>\n",
       "    <tr>\n",
       "      <th>50%</th>\n",
       "      <td>2250.000000</td>\n",
       "    </tr>\n",
       "    <tr>\n",
       "      <th>75%</th>\n",
       "      <td>2375.000000</td>\n",
       "    </tr>\n",
       "    <tr>\n",
       "      <th>max</th>\n",
       "      <td>2500.000000</td>\n",
       "    </tr>\n",
       "  </tbody>\n",
       "</table>\n",
       "</div>"
      ],
      "text/plain": [
       "            amount\n",
       "count     2.000000\n",
       "mean   2250.000000\n",
       "std     353.553391\n",
       "min    2000.000000\n",
       "25%    2125.000000\n",
       "50%    2250.000000\n",
       "75%    2375.000000\n",
       "max    2500.000000"
      ]
     },
     "execution_count": 11,
     "metadata": {},
     "output_type": "execute_result"
    }
   ],
   "source": [
    "calculation_part"
   ]
  },
  {
   "cell_type": "code",
   "execution_count": 12,
   "id": "e8848ed9",
   "metadata": {},
   "outputs": [],
   "source": [
    "saving_goal = float(input(\"Enter your saving goal: \"))"
   ]
  },
  {
   "cell_type": "code",
   "execution_count": 13,
   "id": "369d5f58",
   "metadata": {},
   "outputs": [],
   "source": [
    "total_money_for_month = float(input(\"Enter your total amount which you get for purchasing: \"))"
   ]
  },
  {
   "cell_type": "code",
   "execution_count": 14,
   "id": "78ce64ca",
   "metadata": {},
   "outputs": [],
   "source": [
    "saved_money = (total_money_for_month-total_expenses)"
   ]
  },
  {
   "cell_type": "code",
   "execution_count": 15,
   "id": "581053d2",
   "metadata": {},
   "outputs": [
    {
     "name": "stdout",
     "output_type": "stream",
     "text": [
      "No saving!\n"
     ]
    }
   ],
   "source": [
    "if saved_money < 0 :\n",
    "    print(\"You are below saving line\")\n",
    "    print(f\"You spend {saved_money} money\")\n",
    "elif saved_money == 0:\n",
    "    print(\"No saving!\")\n",
    "else:\n",
    "    print(f\"Your saving goal: {saving_goal}\\nYou saved: {saved_money}\")"
   ]
  },
  {
   "cell_type": "code",
   "execution_count": 16,
   "id": "7b165287",
   "metadata": {},
   "outputs": [],
   "source": [
    "# loading data into the excel sheet\n",
    "month_name = str(input(\"Enter month name: \"))\n",
    "cwd = os.getcwd()\n",
    "df.to_excel(f'{cwd}/Monthly_Expenses_of_{month_name}.xlsx',index=False)"
   ]
  },
  {
   "cell_type": "code",
   "execution_count": 17,
   "id": "c601b921",
   "metadata": {},
   "outputs": [],
   "source": [
    "# loading the calculated_data into the same excel sheet\n",
    "with pd.ExcelWriter(f'{cwd}/Monthly_Expenses_of_{month_name}.xlsx', mode=\"a\", if_sheet_exists='overlay') as writer:\n",
    "    calculation_part.to_excel(writer, sheet_name='Satistical_analysis')"
   ]
  }
 ],
 "metadata": {
  "kernelspec": {
   "display_name": "Python 3 (ipykernel)",
   "language": "python",
   "name": "python3"
  },
  "language_info": {
   "codemirror_mode": {
    "name": "ipython",
    "version": 3
   },
   "file_extension": ".py",
   "mimetype": "text/x-python",
   "name": "python",
   "nbconvert_exporter": "python",
   "pygments_lexer": "ipython3",
   "version": "3.11.5"
  }
 },
 "nbformat": 4,
 "nbformat_minor": 5
}
