{
 "cells": [
  {
   "cell_type": "markdown",
   "id": "ebc5138e",
   "metadata": {},
   "source": [
    "# Bakery Management System (VERSION 2)"
   ]
  },
  {
   "cell_type": "markdown",
   "id": "d42cfbfa",
   "metadata": {},
   "source": [
    "This is used to set the details of the fresh order (NOTE: ALL THE DETAILS ARE DYNAMICALLY ENTERED BY THE USER number_of_fields and there enteries)"
   ]
  },
  {
   "cell_type": "code",
   "execution_count": 1,
   "id": "3bc07f67",
   "metadata": {},
   "outputs": [],
   "source": [
    "# this system is used to enter the order details [order, client_name, order_date, quantity_of_food] and will fetch the details of complete order by entering the order id of it and can make changes if required!\n",
    "\n",
    "# NOTE: unique order id will be generated!"
   ]
  },
  {
   "cell_type": "code",
   "execution_count": 2,
   "id": "0a6c4ded",
   "metadata": {},
   "outputs": [],
   "source": [
    "# importing the modules\n",
    "import pandas as pd\n",
    "import random as rd\n",
    "import os"
   ]
  },
  {
   "cell_type": "code",
   "execution_count": 3,
   "id": "16dcd02d",
   "metadata": {},
   "outputs": [],
   "source": [
    "# this is used to set the number of fields of the dataframe dynamically\n",
    "number_of_fields = int(input(\"How many fields do you want to enter?\\n\"))\n",
    "# This is used to take the number of orders by the user\n",
    "number_of_orders = int(input(\"How many orders do you want to enter?\\n\"))"
   ]
  },
  {
   "cell_type": "code",
   "execution_count": 4,
   "id": "f1dfebbc",
   "metadata": {},
   "outputs": [],
   "source": [
    "# these are the fields that are required to be there in excel sheet\n",
    "list_of_fields = []\n",
    "for i in range(number_of_fields):\n",
    "    field = str(input(f\"Enter field {i+1} (NOTE: DO NOT ENTER ORDER ID AS FIELD)\"))\n",
    "    list_of_fields.append(field) # appending all the fields in this list"
   ]
  },
  {
   "cell_type": "code",
   "execution_count": 5,
   "id": "51524a71",
   "metadata": {},
   "outputs": [],
   "source": [
    "# creating dictonary for entering the details\n",
    "dictonary_of_orders = dict()\n",
    "# creating the empty list so that we can append the values of the fields in the list_of_details\n",
    "list_of_details = []\n",
    "# creating the list for storing the order id\n",
    "order_id_list = []"
   ]
  },
  {
   "cell_type": "code",
   "execution_count": 6,
   "id": "6cf5dbe2",
   "metadata": {},
   "outputs": [],
   "source": [
    "# for uniquely inputing the order-id the loop is made and for inserting the order id one by one for number_of_orders\n",
    "\n",
    "i = 0\n",
    "while (i != number_of_orders):\n",
    "    number = rd.random()\n",
    "    order_id = round(number,6)\n",
    "    if (i == 0):\n",
    "        order_id_list.append(order_id)\n",
    "        i+=1\n",
    "    else :\n",
    "        # checking that order-id must be unique\n",
    "        for iteration in range(i):\n",
    "            if (order_id_list[iteration] == order_id):\n",
    "                i-=1\n",
    "                break\n",
    "            else :\n",
    "                order_id_list.append(order_id)\n",
    "        i+=1\n",
    "# adding the column of order-id at the start\n",
    "dictonary_of_orders.update({\"Order-Id\":order_id_list})"
   ]
  },
  {
   "cell_type": "code",
   "execution_count": 7,
   "id": "299b682e",
   "metadata": {},
   "outputs": [],
   "source": [
    "# creating 2-D arrays for storing the data\n",
    "for i in range((number_of_fields)):\n",
    "    list_of_details.append([])"
   ]
  },
  {
   "cell_type": "code",
   "execution_count": 8,
   "id": "bee08d2c",
   "metadata": {},
   "outputs": [],
   "source": [
    "# setting the values in the list and then transfering the data into the dictonary_of_orders\n",
    "for i in range(number_of_fields):\n",
    "    for j in range(number_of_orders):\n",
    "        field_detail = str(input(f\"{list_of_fields[i]}\"))\n",
    "        list_of_details[i].append(field_detail)\n",
    "    dictonary_of_orders.update({list_of_fields[i]:list_of_details[i]})"
   ]
  },
  {
   "cell_type": "code",
   "execution_count": 9,
   "id": "2102232c",
   "metadata": {},
   "outputs": [],
   "source": [
    "# creating the dataframe of the entered data\n",
    "df = pd.DataFrame(dictonary_of_orders)"
   ]
  },
  {
   "cell_type": "code",
   "execution_count": 10,
   "id": "2f22d735",
   "metadata": {},
   "outputs": [
    {
     "data": {
      "text/html": [
       "<div>\n",
       "<style scoped>\n",
       "    .dataframe tbody tr th:only-of-type {\n",
       "        vertical-align: middle;\n",
       "    }\n",
       "\n",
       "    .dataframe tbody tr th {\n",
       "        vertical-align: top;\n",
       "    }\n",
       "\n",
       "    .dataframe thead th {\n",
       "        text-align: right;\n",
       "    }\n",
       "</style>\n",
       "<table border=\"1\" class=\"dataframe\">\n",
       "  <thead>\n",
       "    <tr style=\"text-align: right;\">\n",
       "      <th></th>\n",
       "      <th>Order-Id</th>\n",
       "      <th>order-date</th>\n",
       "      <th>customer-name</th>\n",
       "      <th>item-name</th>\n",
       "      <th>quantity</th>\n",
       "    </tr>\n",
       "  </thead>\n",
       "  <tbody>\n",
       "    <tr>\n",
       "      <th>0</th>\n",
       "      <td>0.386596</td>\n",
       "      <td>12-2-24</td>\n",
       "      <td>Chinmay Jain</td>\n",
       "      <td>Cake</td>\n",
       "      <td>2</td>\n",
       "    </tr>\n",
       "    <tr>\n",
       "      <th>1</th>\n",
       "      <td>0.940230</td>\n",
       "      <td>10-3-24</td>\n",
       "      <td>Rakesh</td>\n",
       "      <td>Cake</td>\n",
       "      <td>3</td>\n",
       "    </tr>\n",
       "  </tbody>\n",
       "</table>\n",
       "</div>"
      ],
      "text/plain": [
       "   Order-Id order-date customer-name item-name quantity\n",
       "0  0.386596    12-2-24  Chinmay Jain      Cake        2\n",
       "1  0.940230    10-3-24        Rakesh      Cake        3"
      ]
     },
     "execution_count": 10,
     "metadata": {},
     "output_type": "execute_result"
    }
   ],
   "source": [
    "df"
   ]
  },
  {
   "cell_type": "code",
   "execution_count": 11,
   "id": "b377061a",
   "metadata": {},
   "outputs": [],
   "source": [
    "# loading into the excel sheet\n",
    "file_name = str(input(\"Enter name of the file in which you want to store the data\"))\n",
    "cwd = os.getcwd() # getting the current working directory\n",
    "df.to_excel(f'{cwd}/{file_name}.xlsx', index=False) # saving the file into the excel sheet"
   ]
  },
  {
   "cell_type": "markdown",
   "id": "6e1f08d5",
   "metadata": {},
   "source": [
    "For fetching any order by just providing its order-id (NOTE: HERE ORDER-ID IS INDEX NUMBER)"
   ]
  },
  {
   "cell_type": "code",
   "execution_count": 12,
   "id": "858f4f9a",
   "metadata": {},
   "outputs": [],
   "source": [
    "fetching_record_order_id = float(input(\"Enter the order id for fetching the record: \"))"
   ]
  },
  {
   "cell_type": "code",
   "execution_count": 13,
   "id": "c0ef30a7",
   "metadata": {},
   "outputs": [
    {
     "data": {
      "text/plain": [
       "['Order-Id', 'order-date', 'customer-name', 'item-name', 'quantity']"
      ]
     },
     "execution_count": 13,
     "metadata": {},
     "output_type": "execute_result"
    }
   ],
   "source": [
    "# inserting the order-id column at the start of the list_of_fields\n",
    "list_of_fields.insert(0,\"Order-Id\")\n",
    "list_of_fields"
   ]
  },
  {
   "cell_type": "code",
   "execution_count": 14,
   "id": "0986fda4",
   "metadata": {},
   "outputs": [],
   "source": [
    "fregment_of_dataframe = dict()\n",
    "for i in range(number_of_orders):\n",
    "    if (fetching_record_order_id == dictonary_of_orders[\"Order-Id\"][i]):\n",
    "        fregment_of_dataframe.update({\"Order-Id\":fetching_record_order_id})\n",
    "        for j in range(number_of_fields):\n",
    "            fregment_of_dataframe.update({list_of_fields[j+1] : list_of_details[j][i]})\n",
    "    else : \n",
    "        continue"
   ]
  },
  {
   "cell_type": "code",
   "execution_count": 15,
   "id": "94400312",
   "metadata": {},
   "outputs": [
    {
     "data": {
      "text/plain": [
       "{'Order-Id': 0.386596,\n",
       " 'order-date': '12-2-24',\n",
       " 'customer-name': 'Chinmay Jain',\n",
       " 'item-name': 'Cake',\n",
       " 'quantity': '2'}"
      ]
     },
     "execution_count": 15,
     "metadata": {},
     "output_type": "execute_result"
    }
   ],
   "source": [
    "# this will show the fetched fregment_of_dataframe with all the attributes in the record\n",
    "fregment_of_dataframe"
   ]
  },
  {
   "cell_type": "markdown",
   "id": "991d98cc",
   "metadata": {},
   "source": [
    "To update any attribute of the record"
   ]
  },
  {
   "cell_type": "code",
   "execution_count": 16,
   "id": "3266a72e",
   "metadata": {},
   "outputs": [],
   "source": [
    "# for updating any of the field updation_id is taken up by the user\n",
    "updation_id = float(input(\"Enter the record id for updation: \"))"
   ]
  },
  {
   "cell_type": "code",
   "execution_count": 17,
   "id": "66c4890f",
   "metadata": {},
   "outputs": [],
   "source": [
    "for i in range(number_of_orders):\n",
    "    if (updation_id == dictonary_of_orders[\"Order-Id\"][i]):\n",
    "        for j in range(1,number_of_fields+1):\n",
    "            updated_detail = str(input(f\"Updated {list_of_fields[j]}\"))\n",
    "            dictonary_of_orders[list_of_fields[j]][i] = updated_detail\n",
    "    else : \n",
    "        continue"
   ]
  },
  {
   "cell_type": "code",
   "execution_count": 19,
   "id": "d7aaf5aa",
   "metadata": {},
   "outputs": [],
   "source": [
    "# updating the dataframe\n",
    "df = pd.DataFrame(dictonary_of_orders)"
   ]
  },
  {
   "cell_type": "code",
   "execution_count": 20,
   "id": "6438ecbe",
   "metadata": {},
   "outputs": [
    {
     "data": {
      "text/html": [
       "<div>\n",
       "<style scoped>\n",
       "    .dataframe tbody tr th:only-of-type {\n",
       "        vertical-align: middle;\n",
       "    }\n",
       "\n",
       "    .dataframe tbody tr th {\n",
       "        vertical-align: top;\n",
       "    }\n",
       "\n",
       "    .dataframe thead th {\n",
       "        text-align: right;\n",
       "    }\n",
       "</style>\n",
       "<table border=\"1\" class=\"dataframe\">\n",
       "  <thead>\n",
       "    <tr style=\"text-align: right;\">\n",
       "      <th></th>\n",
       "      <th>Order-Id</th>\n",
       "      <th>order-date</th>\n",
       "      <th>customer-name</th>\n",
       "      <th>item-name</th>\n",
       "      <th>quantity</th>\n",
       "    </tr>\n",
       "  </thead>\n",
       "  <tbody>\n",
       "    <tr>\n",
       "      <th>0</th>\n",
       "      <td>0.386596</td>\n",
       "      <td>15-5-24</td>\n",
       "      <td>Chinmay</td>\n",
       "      <td>Biscuits</td>\n",
       "      <td>5</td>\n",
       "    </tr>\n",
       "    <tr>\n",
       "      <th>1</th>\n",
       "      <td>0.940230</td>\n",
       "      <td>10-3-24</td>\n",
       "      <td>Rakesh</td>\n",
       "      <td>Cake</td>\n",
       "      <td>3</td>\n",
       "    </tr>\n",
       "  </tbody>\n",
       "</table>\n",
       "</div>"
      ],
      "text/plain": [
       "   Order-Id order-date customer-name item-name quantity\n",
       "0  0.386596    15-5-24       Chinmay  Biscuits        5\n",
       "1  0.940230    10-3-24        Rakesh      Cake        3"
      ]
     },
     "execution_count": 20,
     "metadata": {},
     "output_type": "execute_result"
    }
   ],
   "source": [
    "df # printing the updated dataframe"
   ]
  },
  {
   "cell_type": "code",
   "execution_count": 21,
   "id": "392a232a",
   "metadata": {},
   "outputs": [],
   "source": [
    "# loading the updated data into the excel sheet\n",
    "file_name = str(input(\"Enter name of the file in which you want to store the data\"))\n",
    "cwd = os.getcwd() # getting the current working directory\n",
    "df.to_excel(f'{cwd}/{file_name}Updated.xlsx', index=False) # saving the file into the excel sheet"
   ]
  }
 ],
 "metadata": {
  "kernelspec": {
   "display_name": "Python 3 (ipykernel)",
   "language": "python",
   "name": "python3"
  },
  "language_info": {
   "codemirror_mode": {
    "name": "ipython",
    "version": 3
   },
   "file_extension": ".py",
   "mimetype": "text/x-python",
   "name": "python",
   "nbconvert_exporter": "python",
   "pygments_lexer": "ipython3",
   "version": "3.11.5"
  }
 },
 "nbformat": 4,
 "nbformat_minor": 5
}
